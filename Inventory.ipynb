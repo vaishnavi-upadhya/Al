{
  "nbformat": 4,
  "nbformat_minor": 0,
  "metadata": {
    "colab": {
      "name": "Inventory.ipynb",
      "provenance": [],
      "collapsed_sections": []
    },
    "kernelspec": {
      "name": "python3",
      "display_name": "Python 3"
    },
    "language_info": {
      "name": "python"
    }
  },
  "cells": [
    {
      "cell_type": "code",
      "metadata": {
        "id": "gnNX0Zx-v7df"
      },
      "source": [
        "record={1001:{\"item\":\"Milk\",\"quantity\":10,\"M.R.P\":25,\"In store\":24},\n",
        "1002:{\"item\":\"Cheese\",\"quantity\":50,\"M.R.P\":120,\"In store\":110},\n",
        "1003:{\"item\":\"Butter\",\"quantity\":50,\"M.R.P\":105,\"In store\":100},\n",
        "1004:{\"item\":\"Ghee\",\"quantity\":10,\"M.R.P\":125,\"In store\":125},\n",
        "1005:{\"item\":\"Juice\",\"quantity\":10,\"M.R.P\":95,\"In store\":95},\n",
        "1006:{\"item\":\"Chocolate\",\"quantity\":11,\"M.R.P\":80,\"In store\":75},\n",
        "1007:{\"item\":\"Cookies\",\"quantity\":12,\"M.R.P\":20,\"In store\":18},\n",
        "1008:{\"item\":\"Biscuits\",\"quantity\":21,\"M.R.P\":20,\"In store\":15},\n",
        "1009:{\"item\":\"wafers\",\"quantity\":18,\"M.R.P\":25,\"In store\":17},\n",
        "1010:{\"item\":\"Dal\",\"quantity\":100,\"M.R.P\":65,\"In store\":65},\n",
        "1011:{\"item\":\"rice\",\"quantity\":21,\"M.R.P\":55,\"In store\":55},\n",
        "1012:{\"item\":\"BoiledRice\",\"quantity\":31,\"M.R.P\":55,\"In store\":55},\n",
        "1013:{\"item\":\"WholeWheat\",\"quantity\":18,\"M.R.P\":45,\"In store\":44},\n",
        "1014:{\"item\":\"Maida\",\"quantity\":19,\"M.R.P\":28,\"In store\":20},\n",
        "1015:{\"item\":\"RiceFloor\",\"quantity\":51,\"M.R.P\":70,\"In store\":55},\n",
        "1016:{\"item\":\"WheatFloor\",\"quantity\":41,\"M.R.P\":46,\"In store\":35},\n",
        "1017:{\"item\":\"DishWash\",\"quantity\":18,\"M.R.P\":85,\"In store\":80},\n",
        "1018:{\"item\":\"BodyWash\",\"quantity\":15,\"M.R.P\":185,\"In store\":182},\n",
        "1019:{\"item\":\"FaceWash\",\"quantity\":14,\"M.R.P\":55,\"In store\":54},\n",
        "1020:{\"item\":\"noodels\",\"quantity\":17,\"M.R.P\":86,\"In store\":80},\n",
        "1021:{\"item\":\"chips\",\"quantity\":12,\"M.R.P\":10,\"In store\":10},\n",
        "1022:{\"item\":\"nachos\",\"quantity\":15,\"M.R.P\":55,\"In store\":45},\n",
        "1023:{\"item\":\"Sugar\",\"quantity\":81,\"M.R.P\":114,\"In store\":110},\n",
        "1024:{\"item\":\"Jaggery\",\"quantity\":15,\"M.R.P\":95,\"In store\":85},\n",
        "1025:{\"item\":\"ToothPaste\",\"quantity\":11,\"M.R.P\":105,\"In store\":85},\n",
        "1026:{\"item\":\"ToothBrush\",\"quantity\":10,\"M.R.P\":18,\"In store\":15},\n",
        "1027:{\"item\":\"CookingOil\",\"quantity\":21,\"M.R.P\":125,\"In store\":115},\n",
        "1028:{\"item\":\"GramFloor\",\"quantity\":15,\"M.R.P\":35,\"In store\":27},\n",
        "1029:{\"item\":\"paneer\",\"quantity\":18,\"M.R.P\":155,\"In store\":150},\n",
        "1030:{\"item\":\"cuminSeeds\",\"quantity\":51,\"M.R.P\":55,\"In store\":40}}"
      ],
      "execution_count": 3,
      "outputs": []
    },
    {
      "cell_type": "code",
      "metadata": {
        "id": "wKg5oe8wwKR6"
      },
      "source": [
        "import json\n"
      ],
      "execution_count": 4,
      "outputs": []
    },
    {
      "cell_type": "code",
      "metadata": {
        "id": "_ta-HhY_weQy"
      },
      "source": [
        "js=json.dumps(record)"
      ],
      "execution_count": 5,
      "outputs": []
    },
    {
      "cell_type": "code",
      "metadata": {
        "id": "OSVZ1fjLwhZE"
      },
      "source": [
        "fd=open(\"Record.json\",'w')\n",
        "fd.write(js)\n",
        "fd.close()\n",
        "\n"
      ],
      "execution_count": 6,
      "outputs": []
    },
    {
      "cell_type": "code",
      "metadata": {
        "id": "SSsNwRUTivFZ"
      },
      "source": [
        ""
      ],
      "execution_count": null,
      "outputs": []
    },
    {
      "cell_type": "code",
      "metadata": {
        "id": "vp0134vPwn7i"
      },
      "source": [
        "fd=open(\"Record.json\",'r')\n",
        "txt=fd.read()\n",
        "fd.close()\n"
      ],
      "execution_count": 7,
      "outputs": []
    },
    {
      "cell_type": "code",
      "metadata": {
        "id": "yequm_LSxzcm",
        "colab": {
          "base_uri": "https://localhost:8080/"
        },
        "outputId": "187969fd-0050-43f4-cf42-62174812b318"
      },
      "source": [
        "record[1002]\n"
      ],
      "execution_count": 14,
      "outputs": [
        {
          "output_type": "execute_result",
          "data": {
            "text/plain": [
              "{'In store': 110, 'M.R.P': 120, 'item': 'Cheese', 'quantity': 50}"
            ]
          },
          "metadata": {},
          "execution_count": 14
        }
      ]
    },
    {
      "cell_type": "code",
      "metadata": {
        "colab": {
          "base_uri": "https://localhost:8080/"
        },
        "id": "p-P9uZVMcXoe",
        "outputId": "67f627db-cb81-4df8-c4c3-7c3f7b763032"
      },
      "source": [
        "n=int(input(\"Enter the total number of products you buying :\"))\n",
        "total=0\n",
        "for i in range (n):\n",
        "  item_id=int(input(\"Enter the id :\"))\n",
        "  item_quantity=int(input(\"Enter the number of items :\"))\n",
        "  print(record[item_id])\n",
        "  t=int(item_quantity)*int(record[item_id]['In store'])\n",
        "  total=total+t\n",
        "  record[item_id][\"quantity\"]=int(record[item_id][\"quantity\"])-item_quantity\n",
        "  print(\"\\n\")\n",
        "  \n",
        "print(\"**************************\")\n",
        "print(\"total= \",total)\n",
        "print(\"Thanks for shopping,visit again\")\n",
        "print(\"**************************\")"
      ],
      "execution_count": 32,
      "outputs": [
        {
          "output_type": "stream",
          "name": "stdout",
          "text": [
            "Enter the total number of products you buying :2\n",
            "Enter the id :1002\n",
            "Enter the number of items :2\n",
            "{'item': 'Cheese', 'quantity': 50, 'M.R.P': 120, 'In store': 110}\n",
            "\n",
            "\n",
            "Enter the id :1030\n",
            "Enter the number of items :1\n",
            "{'item': 'cuminSeeds', 'quantity': 51, 'M.R.P': 55, 'In store': 40}\n",
            "\n",
            "\n",
            "**************************\n",
            "total=  260\n",
            "Thanks for shopping,visit again\n",
            "**************************\n"
          ]
        }
      ]
    },
    {
      "cell_type": "code",
      "metadata": {
        "id": "zirACsHMeMgl"
      },
      "source": [
        "js=json.dumps(record)"
      ],
      "execution_count": 33,
      "outputs": []
    },
    {
      "cell_type": "code",
      "metadata": {
        "id": "6NxdAt3Kiwio"
      },
      "source": [
        "fd=open(\"Record.json\",'w')\n",
        "fd.write(js)\n",
        "fd.close()\n"
      ],
      "execution_count": 34,
      "outputs": []
    },
    {
      "cell_type": "code",
      "metadata": {
        "colab": {
          "base_uri": "https://localhost:8080/",
          "height": 341
        },
        "id": "6QZWJ95LjPIc",
        "outputId": "ac71cdef-8b0c-41bc-a316-d5a0c012004c"
      },
      "source": [
        "js\n"
      ],
      "execution_count": 35,
      "outputs": [
        {
          "output_type": "execute_result",
          "data": {
            "application/vnd.google.colaboratory.intrinsic+json": {
              "type": "string"
            },
            "text/plain": [
              "'{\"1001\": {\"item\": \"Milk\", \"quantity\": 10, \"M.R.P\": 25, \"In store\": 24}, \"1002\": {\"item\": \"Cheese\", \"quantity\": 48, \"M.R.P\": 120, \"In store\": 110}, \"1003\": {\"item\": \"Butter\", \"quantity\": 50, \"M.R.P\": 105, \"In store\": 100}, \"1004\": {\"item\": \"Ghee\", \"quantity\": 10, \"M.R.P\": 125, \"In store\": 125}, \"1005\": {\"item\": \"Juice\", \"quantity\": 10, \"M.R.P\": 95, \"In store\": 95}, \"1006\": {\"item\": \"Chocolate\", \"quantity\": 11, \"M.R.P\": 80, \"In store\": 75}, \"1007\": {\"item\": \"Cookies\", \"quantity\": 12, \"M.R.P\": 20, \"In store\": 18}, \"1008\": {\"item\": \"Biscuits\", \"quantity\": 21, \"M.R.P\": 20, \"In store\": 15}, \"1009\": {\"item\": \"wafers\", \"quantity\": 18, \"M.R.P\": 25, \"In store\": 17}, \"1010\": {\"item\": \"Dal\", \"quantity\": 100, \"M.R.P\": 65, \"In store\": 65}, \"1011\": {\"item\": \"rice\", \"quantity\": 21, \"M.R.P\": 55, \"In store\": 55}, \"1012\": {\"item\": \"BoiledRice\", \"quantity\": 31, \"M.R.P\": 55, \"In store\": 55}, \"1013\": {\"item\": \"WholeWheat\", \"quantity\": 18, \"M.R.P\": 45, \"In store\": 44}, \"1014\": {\"item\": \"Maida\", \"quantity\": 19, \"M.R.P\": 28, \"In store\": 20}, \"1015\": {\"item\": \"RiceFloor\", \"quantity\": 51, \"M.R.P\": 70, \"In store\": 55}, \"1016\": {\"item\": \"WheatFloor\", \"quantity\": 41, \"M.R.P\": 46, \"In store\": 35}, \"1017\": {\"item\": \"DishWash\", \"quantity\": 18, \"M.R.P\": 85, \"In store\": 80}, \"1018\": {\"item\": \"BodyWash\", \"quantity\": 15, \"M.R.P\": 185, \"In store\": 182}, \"1019\": {\"item\": \"FaceWash\", \"quantity\": 14, \"M.R.P\": 55, \"In store\": 54}, \"1020\": {\"item\": \"noodels\", \"quantity\": 17, \"M.R.P\": 86, \"In store\": 80}, \"1021\": {\"item\": \"chips\", \"quantity\": 12, \"M.R.P\": 10, \"In store\": 10}, \"1022\": {\"item\": \"nachos\", \"quantity\": 15, \"M.R.P\": 55, \"In store\": 45}, \"1023\": {\"item\": \"Sugar\", \"quantity\": 81, \"M.R.P\": 114, \"In store\": 110}, \"1024\": {\"item\": \"Jaggery\", \"quantity\": 15, \"M.R.P\": 95, \"In store\": 85}, \"1025\": {\"item\": \"ToothPaste\", \"quantity\": 11, \"M.R.P\": 105, \"In store\": 85}, \"1026\": {\"item\": \"ToothBrush\", \"quantity\": 10, \"M.R.P\": 18, \"In store\": 15}, \"1027\": {\"item\": \"CookingOil\", \"quantity\": 21, \"M.R.P\": 125, \"In store\": 115}, \"1028\": {\"item\": \"GramFloor\", \"quantity\": 15, \"M.R.P\": 35, \"In store\": 27}, \"1029\": {\"item\": \"paneer\", \"quantity\": 18, \"M.R.P\": 155, \"In store\": 150}, \"1030\": {\"item\": \"cuminSeeds\", \"quantity\": 50, \"M.R.P\": 55, \"In store\": 40}}'"
            ]
          },
          "metadata": {},
          "execution_count": 35
        }
      ]
    }
  ]
}